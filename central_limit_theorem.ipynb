{
 "cells": [
  {
   "cell_type": "code",
   "execution_count": 1,
   "metadata": {},
   "outputs": [],
   "source": [
    "num = 10 # 1回の試行で振るサイコロの個数\n",
    "trial = 10000 # 試行回数"
   ]
  },
  {
   "cell_type": "code",
   "execution_count": 2,
   "metadata": {},
   "outputs": [],
   "source": [
    "import random\n",
    "dice_num = [random.choices(range(1,7), k=num) for t in range(trial)]  #サイコロを必要回数振る\n",
    "dice_sum = [sum(dice_num[i]) for i in range(trial)]               #num個ずつ値を足して平均をとる"
   ]
  },
  {
   "cell_type": "code",
   "execution_count": 3,
   "metadata": {},
   "outputs": [
    {
     "data": {
      "text/plain": [
       "(array([  0.,   0.,   0.,   0.,   0.,   0.,   2.,   3.,   5.,   9.,  16.,\n",
       "         21.,  41.,  59.,  95., 131., 203., 245., 340., 411., 480., 551.,\n",
       "        617., 676., 700., 705., 745., 698., 615., 527., 522., 394., 344.,\n",
       "        241., 206., 156.,  84.,  58.,  49.,  23.,  15.,   9.,   3.,   0.,\n",
       "          0.,   1.,   0.,   0.,   0.,   0.]),\n",
       " array([10., 11., 12., 13., 14., 15., 16., 17., 18., 19., 20., 21., 22.,\n",
       "        23., 24., 25., 26., 27., 28., 29., 30., 31., 32., 33., 34., 35.,\n",
       "        36., 37., 38., 39., 40., 41., 42., 43., 44., 45., 46., 47., 48.,\n",
       "        49., 50., 51., 52., 53., 54., 55., 56., 57., 58., 59., 60.]),\n",
       " <a list of 50 Patch objects>)"
      ]
     },
     "execution_count": 3,
     "metadata": {},
     "output_type": "execute_result"
    },
    {
     "data": {
      "image/png": "[encoded data removed]",
      "text/plain": [
       "<Figure size 432x288 with 1 Axes>"
      ]
     },
     "metadata": {
      "needs_background": "light"
     },
     "output_type": "display_data"
    }
   ],
   "source": [
    "import matplotlib.pyplot as plt\n",
    "plt.hist(dice_sum, range=(num, 6*num), bins=5*num)"
   ]
  },
  {
   "cell_type": "code",
   "execution_count": 4,
   "metadata": {},
   "outputs": [],
   "source": [
    "import math\n",
    "def gauss(x, avg, var):\n",
    "    return math.exp(-(x - avg)**2/(2*var)) / math.sqrt(2*math.pi*var)"
   ]
  },
  {
   "cell_type": "code",
   "execution_count": 9,
   "metadata": {},
   "outputs": [
    {
     "name": "stderr",
     "output_type": "stream",
     "text": [
      "<ipython-input-9-0b729e61f01a>:2: MatplotlibDeprecationWarning: \n",
      "The 'normed' kwarg was deprecated in Matplotlib 2.1 and will be removed in 3.1. Use 'density' instead.\n",
      "  plt.hist(dice_sum, range=(num, 6*num), bins=5*num, normed=True, color=\"red\", align=\"left\")\n"
     ]
    },
    {
     "data": {
      "text/plain": [
       "(array([0.    , 0.    , 0.    , 0.    , 0.    , 0.    , 0.0002, 0.0003,\n",
       "        0.0005, 0.0009, 0.0016, 0.0021, 0.0041, 0.0059, 0.0095, 0.0131,\n",
       "        0.0203, 0.0245, 0.034 , 0.0411, 0.048 , 0.0551, 0.0617, 0.0676,\n",
       "        0.07  , 0.0705, 0.0745, 0.0698, 0.0615, 0.0527, 0.0522, 0.0394,\n",
       "        0.0344, 0.0241, 0.0206, 0.0156, 0.0084, 0.0058, 0.0049, 0.0023,\n",
       "        0.0015, 0.0009, 0.0003, 0.    , 0.    , 0.0001, 0.    , 0.    ,\n",
       "        0.    , 0.    ]),\n",
       " array([10., 11., 12., 13., 14., 15., 16., 17., 18., 19., 20., 21., 22.,\n",
       "        23., 24., 25., 26., 27., 28., 29., 30., 31., 32., 33., 34., 35.,\n",
       "        36., 37., 38., 39., 40., 41., 42., 43., 44., 45., 46., 47., 48.,\n",
       "        49., 50., 51., 52., 53., 54., 55., 56., 57., 58., 59., 60.]),\n",
       " <a list of 50 Patch objects>)"
      ]
     },
     "execution_count": 9,
     "metadata": {},
     "output_type": "execute_result"
    },
    {
     "data": {
      "image/png": "[encoded data removed]",
      "text/plain": [
       "<Figure size 432x288 with 1 Axes>"
      ]
     },
     "metadata": {
      "needs_background": "light"
     },
     "output_type": "display_data"
    }
   ],
   "source": [
    "plt.plot(range(num,6*num),[gauss(i, 3.5*num, 35/12*num) for i in range(num,6*num)])\n",
    "plt.hist(dice_sum, range=(num, 6*num), bins=5*num, normed=True, color=\"red\", align=\"left\")"
   ]
  },
  {
   "cell_type": "code",
   "execution_count": null,
   "metadata": {},
   "outputs": [],
   "source": []
  }
 ],
 "metadata": {
  "kernelspec": {
   "display_name": "Python 3",
   "language": "python",
   "name": "python3"
  },
  "language_info": {
   "codemirror_mode": {
    "name": "ipython",
    "version": 3
   },
   "file_extension": ".py",
   "mimetype": "text/x-python",
   "name": "python",
   "nbconvert_exporter": "python",
   "pygments_lexer": "ipython3",
   "version": "3.8.5"
  }
 },
 "nbformat": 4,
 "nbformat_minor": 4
}
