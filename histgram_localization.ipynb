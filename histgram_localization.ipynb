{
 "cells": [
  {
   "cell_type": "code",
   "execution_count": 1,
   "metadata": {},
   "outputs": [],
   "source": [
    "x = 0.0                     #ロボットの位置\n",
    "x_max = 3.0                 #環境の広さ（1次元なので長さ）\n",
    "cell_num = 30                       #確率の計算をするための離散区間の数\n",
    "probs = [1.0/cell_num] * cell_num   #確率を入れるリスト\n",
    "landmarks = [0.5, 2.0]              #ランドマークの位置"
   ]
  },
  {
   "cell_type": "code",
   "execution_count": 2,
   "metadata": {},
   "outputs": [],
   "source": [
    "from matplotlib import pyplot as plt   #グラフ描画用モジュールの読み込み\n",
    "\n",
    "def draw():\n",
    "    plt.xlabel(\"X\", fontsize=10)   #横軸のラベル\n",
    "    plt.ylabel(\"P\", fontsize=10)   #縦軸のラベル\n",
    "\n",
    "    # 確率の描画\n",
    "    cell_centers = [x_max/cell_num*(i+0.5) for i in range(cell_num)] #各区間の中央を計算\n",
    "    plt.bar(cell_centers, probs, width=x_max/cell_num, alpha=0.5)    #棒グラフを描画\n",
    "    # ロボットの描画\n",
    "    plt.scatter([x], [0.1], s=100, marker=\"o\", fc=\"red\")    #頭の円の描画\n",
    "    plt.plot([x,x],[0,0.1], color=\"red\")                    #体の棒の描画\n",
    "    # ランドマークの描画\n",
    "    plt.scatter([landmarks], [0.9]*len(landmarks), s=200, marker=\"*\", fc=\"orange\") #星の描画\n",
    "\n",
    "    plt.show()"
   ]
  },
  {
   "cell_type": "code",
   "execution_count": 3,
   "metadata": {
    "scrolled": true
   },
   "outputs": [
    {
     "data": {
      "image/png": "[encoded data removed]",
      "text/plain": [
       "<Figure size 432x288 with 1 Axes>"
      ]
     },
     "metadata": {
      "needs_background": "light"
     },
     "output_type": "display_data"
    }
   ],
   "source": [
    "draw()"
   ]
  },
  {
   "cell_type": "code",
   "execution_count": 4,
   "metadata": {},
   "outputs": [],
   "source": [
    "import random\n",
    "\n",
    "def robot_motion(x, action):\n",
    "    delta = 0.1 + random.uniform(-0.02, 0.02)              #移動量（誤差を含む）\n",
    "    new_x = x + delta if action == \"right\" else x - delta  #左右で符号を変えてxに足す\n",
    "    return min(max(0.0, new_x), x_max - 0.0001)        #Xの範囲からはみ出た場合は戻す\n",
    "\n",
    "def prob_motion(probs, action):\n",
    "    new_ps = {i:0.0 for i in range(-2,cell_num+2)} #新たな確率分布（辞書型。両端で2つ余計に区間を準備）\n",
    "    delta = 1 if action == \"right\" else - 1        #右なら平均で+1区間、左なら平均で-1区間移動\n",
    "    for i, p in enumerate(probs):\n",
    "        new_ps[i+delta-1] += p/12      #確率を分配\n",
    "        new_ps[i+delta] += p*10/12\n",
    "        new_ps[i+delta+1] += p/12\n",
    "\n",
    "    ### Xの範囲からはみ出た確率を端のセルの確率に足す ###\n",
    "    new_ps[cell_num-1] += new_ps[cell_num] + new_ps[cell_num+1]\n",
    "    new_ps[0] += new_ps[-1] + new_ps[-2]\n",
    "        \n",
    "    return [new_ps[p] for p in range(cell_num)]"
   ]
  },
  {
   "cell_type": "code",
   "execution_count": 5,
   "metadata": {
    "scrolled": true
   },
   "outputs": [
    {
     "data": {
      "image/png": "[encoded data removed]",
      "text/plain": [
       "<Figure size 432x288 with 1 Axes>"
      ]
     },
     "metadata": {
      "needs_background": "light"
     },
     "output_type": "display_data"
    }
   ],
   "source": [
    "def one_step(action):\n",
    "    global x, probs                      #グローバル変数を書き換えるのでglobal宣言しておく\n",
    "    x = robot_motion(x, action)          #ロボットの位置を更新\n",
    "    probs = prob_motion(probs, action)   #確率分布を更新\n",
    "\n",
    "### ロボットを右に1ステップ動かしてみましょう ###\n",
    "one_step(\"right\")\n",
    "draw()"
   ]
  },
  {
   "cell_type": "code",
   "execution_count": 6,
   "metadata": {
    "scrolled": true
   },
   "outputs": [
    {
     "data": {
      "image/png": "[encoded data removed]",
      "text/plain": [
       "<Figure size 432x288 with 1 Axes>"
      ]
     },
     "metadata": {
      "needs_background": "light"
     },
     "output_type": "display_data"
    }
   ],
   "source": [
    "### さらに4ステップ動かしてみる ###\n",
    "for i in range(4):\n",
    "    one_step(\"right\")\n",
    "    \n",
    "draw()"
   ]
  },
  {
   "cell_type": "code",
   "execution_count": 7,
   "metadata": {
    "scrolled": true
   },
   "outputs": [
    {
     "data": {
      "image/png": "[encoded data removed]",
      "text/plain": [
       "<Figure size 432x288 with 1 Axes>"
      ]
     },
     "metadata": {
      "needs_background": "light"
     },
     "output_type": "display_data"
    }
   ],
   "source": [
    "def observation(x):\n",
    "    ### xがランドマークの下かという条件と、10%の確率でTrueになる条件のXORを返す ###\n",
    "    return (0.3 < x < 0.7 or 1.8 < x < 2.2) ^ (random.random() < 0.1)\n",
    "\n",
    "def prob_obs(probs, obs):\n",
    "    for i, p in enumerate(probs):\n",
    "        ### ベイズの定理の分子の計算。前半の括弧がP(z|i)、pがP(i)に相当 ###\n",
    "        probs[i] = (0.1 if (i in [3,4,5,6,18,19,20,21]) ^ obs else 0.9) * p\n",
    "        \n",
    "    return [p / sum(probs) for p in probs] #確率分布の合計が1になるように正規化（分母の計算）\n",
    "\n",
    "### 観測を1回実行してみましょう ###\n",
    "obs = observation(x)\n",
    "probs = prob_obs(probs, obs)\n",
    "draw()"
   ]
  },
  {
   "cell_type": "code",
   "execution_count": 8,
   "metadata": {},
   "outputs": [],
   "source": [
    "def one_step(action):           #one_stepを上書き\n",
    "    global x, probs\n",
    "    x = robot_motion(x, action)            #移動\n",
    "    probs = prob_motion(probs, action)     #移動後の確率分布の更新\n",
    "    obs = observation(x)                   #観測\n",
    "    probs = prob_obs(probs, obs)           #観測後の確率分布の更新"
   ]
  },
  {
   "cell_type": "code",
   "execution_count": 9,
   "metadata": {},
   "outputs": [
    {
     "data": {
      "image/png": "[encoded data removed]",
      "text/plain": [
       "<Figure size 432x288 with 1 Axes>"
      ]
     },
     "metadata": {
      "needs_background": "light"
     },
     "output_type": "display_data"
    }
   ],
   "source": [
    "### ロボットを右に1ステップ動かしてみましょう ###\n",
    "one_step(\"right\")\n",
    "draw()"
   ]
  },
  {
   "cell_type": "code",
   "execution_count": 10,
   "metadata": {},
   "outputs": [
    {
     "data": {
      "image/png": "[encoded data removed]",
      "text/plain": [
       "<Figure size 432x288 with 1 Axes>"
      ]
     },
     "metadata": {
      "needs_background": "light"
     },
     "output_type": "display_data"
    }
   ],
   "source": [
    "for i in range(4):\n",
    "    one_step(\"right\")\n",
    "    \n",
    "draw()"
   ]
  },
  {
   "cell_type": "code",
   "execution_count": 11,
   "metadata": {},
   "outputs": [
    {
     "data": {
      "image/png": "[encoded data removed]",
      "text/plain": [
       "<Figure size 432x288 with 1 Axes>"
      ]
     },
     "metadata": {
      "needs_background": "light"
     },
     "output_type": "display_data"
    }
   ],
   "source": [
    "for i in range(5):\n",
    "    one_step(\"right\")\n",
    "    \n",
    "draw()"
   ]
  },
  {
   "cell_type": "code",
   "execution_count": 12,
   "metadata": {},
   "outputs": [
    {
     "data": {
      "image/png": "[encoded data removed]",
      "text/plain": [
       "<Figure size 432x288 with 1 Axes>"
      ]
     },
     "metadata": {
      "needs_background": "light"
     },
     "output_type": "display_data"
    }
   ],
   "source": [
    "for i in range(5):\n",
    "    one_step(\"right\")\n",
    "    \n",
    "draw()"
   ]
  },
  {
   "cell_type": "code",
   "execution_count": 13,
   "metadata": {},
   "outputs": [
    {
     "data": {
      "image/png": "[encoded data removed]",
      "text/plain": [
       "<Figure size 432x288 with 1 Axes>"
      ]
     },
     "metadata": {
      "needs_background": "light"
     },
     "output_type": "display_data"
    }
   ],
   "source": [
    "for i in range(5):\n",
    "    one_step(\"right\")\n",
    "    \n",
    "draw()"
   ]
  },
  {
   "cell_type": "code",
   "execution_count": null,
   "metadata": {},
   "outputs": [],
   "source": []
  }
 ],
 "metadata": {
  "kernelspec": {
   "display_name": "Python 3",
   "language": "python",
   "name": "python3"
  },
  "language_info": {
   "codemirror_mode": {
    "name": "ipython",
    "version": 3
   },
   "file_extension": ".py",
   "mimetype": "text/x-python",
   "name": "python",
   "nbconvert_exporter": "python",
   "pygments_lexer": "ipython3",
   "version": "3.8.5"
  }
 },
 "nbformat": 4,
 "nbformat_minor": 4
}
